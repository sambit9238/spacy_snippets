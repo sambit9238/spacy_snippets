{
  "nbformat": 4,
  "nbformat_minor": 0,
  "metadata": {
    "colab": {
      "name": "spacy_all-in-one.ipynb",
      "provenance": [],
      "collapsed_sections": [],
      "authorship_tag": "ABX9TyOxKwOqMLnt6IKQ/ZF7d/jc",
      "include_colab_link": true
    },
    "kernelspec": {
      "name": "python3",
      "display_name": "Python 3"
    }
  },
  "cells": [
    {
      "cell_type": "markdown",
      "metadata": {
        "id": "view-in-github",
        "colab_type": "text"
      },
      "source": [
        "<a href=\"https://colab.research.google.com/github/sambit9238/spacy_snippets/blob/master/spacy_all_in_one.ipynb\" target=\"_parent\"><img src=\"https://colab.research.google.com/assets/colab-badge.svg\" alt=\"Open In Colab\"/></a>"
      ]
    },
    {
      "cell_type": "code",
      "metadata": {
        "id": "GJY2HTDxP5Hp",
        "outputId": "22457a29-efd3-45a7-8ceb-0c9fe60f7e16",
        "colab": {
          "base_uri": "https://localhost:8080/",
          "height": 605
        }
      },
      "source": [
        "!pip3 install -U spacy"
      ],
      "execution_count": 1,
      "outputs": [
        {
          "output_type": "stream",
          "text": [
            "Collecting spacy\n",
            "\u001b[?25l  Downloading https://files.pythonhosted.org/packages/10/b5/c7a92c7ce5d4b353b70b4b5b4385687206c8b230ddfe08746ab0fd310a3a/spacy-2.3.2-cp36-cp36m-manylinux1_x86_64.whl (9.9MB)\n",
            "\u001b[K     |████████████████████████████████| 10.0MB 2.2MB/s \n",
            "\u001b[?25hRequirement already satisfied, skipping upgrade: cymem<2.1.0,>=2.0.2 in /usr/local/lib/python3.6/dist-packages (from spacy) (2.0.3)\n",
            "Requirement already satisfied, skipping upgrade: numpy>=1.15.0 in /usr/local/lib/python3.6/dist-packages (from spacy) (1.18.5)\n",
            "Requirement already satisfied, skipping upgrade: requests<3.0.0,>=2.13.0 in /usr/local/lib/python3.6/dist-packages (from spacy) (2.23.0)\n",
            "Requirement already satisfied, skipping upgrade: srsly<1.1.0,>=1.0.2 in /usr/local/lib/python3.6/dist-packages (from spacy) (1.0.2)\n",
            "Requirement already satisfied, skipping upgrade: catalogue<1.1.0,>=0.0.7 in /usr/local/lib/python3.6/dist-packages (from spacy) (1.0.0)\n",
            "Requirement already satisfied, skipping upgrade: setuptools in /usr/local/lib/python3.6/dist-packages (from spacy) (50.3.0)\n",
            "Collecting thinc==7.4.1\n",
            "\u001b[?25l  Downloading https://files.pythonhosted.org/packages/10/ae/ef3ae5e93639c0ef8e3eb32e3c18341e511b3c515fcfc603f4b808087651/thinc-7.4.1-cp36-cp36m-manylinux1_x86_64.whl (2.1MB)\n",
            "\u001b[K     |████████████████████████████████| 2.1MB 46.6MB/s \n",
            "\u001b[?25hRequirement already satisfied, skipping upgrade: blis<0.5.0,>=0.4.0 in /usr/local/lib/python3.6/dist-packages (from spacy) (0.4.1)\n",
            "Requirement already satisfied, skipping upgrade: wasabi<1.1.0,>=0.4.0 in /usr/local/lib/python3.6/dist-packages (from spacy) (0.8.0)\n",
            "Requirement already satisfied, skipping upgrade: tqdm<5.0.0,>=4.38.0 in /usr/local/lib/python3.6/dist-packages (from spacy) (4.41.1)\n",
            "Requirement already satisfied, skipping upgrade: plac<1.2.0,>=0.9.6 in /usr/local/lib/python3.6/dist-packages (from spacy) (1.1.3)\n",
            "Requirement already satisfied, skipping upgrade: murmurhash<1.1.0,>=0.28.0 in /usr/local/lib/python3.6/dist-packages (from spacy) (1.0.2)\n",
            "Requirement already satisfied, skipping upgrade: preshed<3.1.0,>=3.0.2 in /usr/local/lib/python3.6/dist-packages (from spacy) (3.0.2)\n",
            "Requirement already satisfied, skipping upgrade: idna<3,>=2.5 in /usr/local/lib/python3.6/dist-packages (from requests<3.0.0,>=2.13.0->spacy) (2.10)\n",
            "Requirement already satisfied, skipping upgrade: certifi>=2017.4.17 in /usr/local/lib/python3.6/dist-packages (from requests<3.0.0,>=2.13.0->spacy) (2020.6.20)\n",
            "Requirement already satisfied, skipping upgrade: chardet<4,>=3.0.2 in /usr/local/lib/python3.6/dist-packages (from requests<3.0.0,>=2.13.0->spacy) (3.0.4)\n",
            "Requirement already satisfied, skipping upgrade: urllib3!=1.25.0,!=1.25.1,<1.26,>=1.21.1 in /usr/local/lib/python3.6/dist-packages (from requests<3.0.0,>=2.13.0->spacy) (1.24.3)\n",
            "Requirement already satisfied, skipping upgrade: importlib-metadata>=0.20; python_version < \"3.8\" in /usr/local/lib/python3.6/dist-packages (from catalogue<1.1.0,>=0.0.7->spacy) (2.0.0)\n",
            "Requirement already satisfied, skipping upgrade: zipp>=0.5 in /usr/local/lib/python3.6/dist-packages (from importlib-metadata>=0.20; python_version < \"3.8\"->catalogue<1.1.0,>=0.0.7->spacy) (3.2.0)\n",
            "Installing collected packages: thinc, spacy\n",
            "  Found existing installation: thinc 7.4.0\n",
            "    Uninstalling thinc-7.4.0:\n",
            "      Successfully uninstalled thinc-7.4.0\n",
            "  Found existing installation: spacy 2.2.4\n",
            "    Uninstalling spacy-2.2.4:\n",
            "      Successfully uninstalled spacy-2.2.4\n",
            "Successfully installed spacy-2.3.2 thinc-7.4.1\n"
          ],
          "name": "stdout"
        }
      ]
    },
    {
      "cell_type": "code",
      "metadata": {
        "id": "LTnwGjdVQx2Y",
        "outputId": "976bbbd4-9831-485e-c870-14bc938dc1ec",
        "colab": {
          "base_uri": "https://localhost:8080/",
          "height": 90
        }
      },
      "source": [
        "import spacy\n",
        "nlp=spacy.load(\"en_core_web_sm\")\n",
        "nlp"
      ],
      "execution_count": 3,
      "outputs": [
        {
          "output_type": "stream",
          "text": [
            "/usr/local/lib/python3.6/dist-packages/spacy/util.py:275: UserWarning: [W031] Model 'en_core_web_sm' (2.2.5) requires spaCy v2.2 and is incompatible with the current spaCy version (2.3.2). This may lead to unexpected results or runtime errors. To resolve this, download a newer compatible model or retrain your custom model with the current spaCy version. For more details and available updates, run: python -m spacy validate\n",
            "  warnings.warn(warn_msg)\n"
          ],
          "name": "stderr"
        },
        {
          "output_type": "execute_result",
          "data": {
            "text/plain": [
              "<spacy.lang.en.English at 0x7ff2ce8aefd0>"
            ]
          },
          "metadata": {
            "tags": []
          },
          "execution_count": 3
        }
      ]
    },
    {
      "cell_type": "code",
      "metadata": {
        "id": "m1AwZ_qIQ3pS",
        "outputId": "5572ec9f-edd1-42ea-b793-fd7f66b388fb",
        "colab": {
          "base_uri": "https://localhost:8080/",
          "height": 34
        }
      },
      "source": [
        "# Parse text through the `nlp` model\n",
        "my_text = \"\"\"\n",
        "If you’d watched the thunderous #FullOn Festival last week, you know what a crackling phone is on its way to be launched. The Galaxy F41 is launching today at the Big Billion Days Sale on Flipkart at an astonishing price of Rs 15, 499 for the base model (6GB RAM, 64GB Internal Memory)! The tactical partnership between Samsung and Flipkart will see a reinforced commitment to make the latest in technology accessible to everyone across the country, especially right now smartphones are bringing immense value to people's lives.\n",
        "\"\"\"\n",
        "\n",
        "my_doc = nlp(my_text)\n",
        "type(my_doc)"
      ],
      "execution_count": 5,
      "outputs": [
        {
          "output_type": "execute_result",
          "data": {
            "text/plain": [
              "spacy.tokens.doc.Doc"
            ]
          },
          "metadata": {
            "tags": []
          },
          "execution_count": 5
        }
      ]
    },
    {
      "cell_type": "markdown",
      "metadata": {
        "id": "qNXzw_MQRZF7"
      },
      "source": [
        "#DOC\n",
        "It is a sequence of tokens that contains not just the original text but all the results produced by the spaCy model after processing the text. Useful information such as the lemma of the text, whether it is a stop word or not, named entities, the word vector of the text and so on are pre-computed and readily stored in the Doc object."
      ]
    },
    {
      "cell_type": "markdown",
      "metadata": {
        "id": "2HLfT071RgDw"
      },
      "source": [
        "#TOKEN\n",
        "Tokens are individual text entities that make up the text. Typically a token can be the words, punctuation, spaces, etc."
      ]
    },
    {
      "cell_type": "code",
      "metadata": {
        "id": "zeve7ZsaRiZB",
        "outputId": "11599536-e80e-46c4-fd19-d742b7fcf1f6",
        "colab": {
          "base_uri": "https://localhost:8080/",
          "height": 1000
        }
      },
      "source": [
        "for token in my_doc:\n",
        "  print(token.text)"
      ],
      "execution_count": 6,
      "outputs": [
        {
          "output_type": "stream",
          "text": [
            "\n",
            "\n",
            "If\n",
            "you\n",
            "’d\n",
            "watched\n",
            "the\n",
            "thunderous\n",
            "#\n",
            "FullOn\n",
            "Festival\n",
            "last\n",
            "week\n",
            ",\n",
            "you\n",
            "know\n",
            "what\n",
            "a\n",
            "crackling\n",
            "phone\n",
            "is\n",
            "on\n",
            "its\n",
            "way\n",
            "to\n",
            "be\n",
            "launched\n",
            ".\n",
            "The\n",
            "Galaxy\n",
            "F41\n",
            "is\n",
            "launching\n",
            "today\n",
            "at\n",
            "the\n",
            "Big\n",
            "Billion\n",
            "Days\n",
            "Sale\n",
            "on\n",
            "Flipkart\n",
            "at\n",
            "an\n",
            "astonishing\n",
            "price\n",
            "of\n",
            "Rs\n",
            "15\n",
            ",\n",
            "499\n",
            "for\n",
            "the\n",
            "base\n",
            "model\n",
            "(\n",
            "6\n",
            "GB\n",
            "RAM\n",
            ",\n",
            "64\n",
            "GB\n",
            "Internal\n",
            "Memory\n",
            ")\n",
            "!\n",
            "The\n",
            "tactical\n",
            "partnership\n",
            "between\n",
            "Samsung\n",
            "and\n",
            "Flipkart\n",
            "will\n",
            "see\n",
            "a\n",
            "reinforced\n",
            "commitment\n",
            "to\n",
            "make\n",
            "the\n",
            "latest\n",
            "in\n",
            "technology\n",
            "accessible\n",
            "to\n",
            "everyone\n",
            "across\n",
            "the\n",
            "country\n",
            ",\n",
            "especially\n",
            "right\n",
            "now\n",
            "smartphones\n",
            "are\n",
            "bringing\n",
            "immense\n",
            "value\n",
            "to\n",
            "people\n",
            "'s\n",
            "lives\n",
            ".\n",
            "\n",
            "\n"
          ],
          "name": "stdout"
        }
      ]
    },
    {
      "cell_type": "code",
      "metadata": {
        "id": "wXdKlCtsRqnd",
        "outputId": "88260029-fa8b-46dc-e087-7d100a7f8347",
        "colab": {
          "base_uri": "https://localhost:8080/",
          "height": 1000
        }
      },
      "source": [
        "# Printing tokens and boolean values stored in different attributes\n",
        "for token in my_doc:\n",
        "  print(token.text,'--',token.is_stop,'---',token.is_punct)"
      ],
      "execution_count": 7,
      "outputs": [
        {
          "output_type": "stream",
          "text": [
            "\n",
            " -- False --- False\n",
            "If -- True --- False\n",
            "you -- True --- False\n",
            "’d -- True --- False\n",
            "watched -- False --- False\n",
            "the -- True --- False\n",
            "thunderous -- False --- False\n",
            "# -- False --- True\n",
            "FullOn -- False --- False\n",
            "Festival -- False --- False\n",
            "last -- True --- False\n",
            "week -- False --- False\n",
            ", -- False --- True\n",
            "you -- True --- False\n",
            "know -- False --- False\n",
            "what -- True --- False\n",
            "a -- True --- False\n",
            "crackling -- False --- False\n",
            "phone -- False --- False\n",
            "is -- True --- False\n",
            "on -- True --- False\n",
            "its -- True --- False\n",
            "way -- False --- False\n",
            "to -- True --- False\n",
            "be -- True --- False\n",
            "launched -- False --- False\n",
            ". -- False --- True\n",
            "The -- True --- False\n",
            "Galaxy -- False --- False\n",
            "F41 -- False --- False\n",
            "is -- True --- False\n",
            "launching -- False --- False\n",
            "today -- False --- False\n",
            "at -- True --- False\n",
            "the -- True --- False\n",
            "Big -- False --- False\n",
            "Billion -- False --- False\n",
            "Days -- False --- False\n",
            "Sale -- False --- False\n",
            "on -- True --- False\n",
            "Flipkart -- False --- False\n",
            "at -- True --- False\n",
            "an -- True --- False\n",
            "astonishing -- False --- False\n",
            "price -- False --- False\n",
            "of -- True --- False\n",
            "Rs -- False --- False\n",
            "15 -- False --- False\n",
            ", -- False --- True\n",
            "499 -- False --- False\n",
            "for -- True --- False\n",
            "the -- True --- False\n",
            "base -- False --- False\n",
            "model -- False --- False\n",
            "( -- False --- True\n",
            "6 -- False --- False\n",
            "GB -- False --- False\n",
            "RAM -- False --- False\n",
            ", -- False --- True\n",
            "64 -- False --- False\n",
            "GB -- False --- False\n",
            "Internal -- False --- False\n",
            "Memory -- False --- False\n",
            ") -- False --- True\n",
            "! -- False --- True\n",
            "The -- True --- False\n",
            "tactical -- False --- False\n",
            "partnership -- False --- False\n",
            "between -- True --- False\n",
            "Samsung -- False --- False\n",
            "and -- True --- False\n",
            "Flipkart -- False --- False\n",
            "will -- True --- False\n",
            "see -- True --- False\n",
            "a -- True --- False\n",
            "reinforced -- False --- False\n",
            "commitment -- False --- False\n",
            "to -- True --- False\n",
            "make -- True --- False\n",
            "the -- True --- False\n",
            "latest -- False --- False\n",
            "in -- True --- False\n",
            "technology -- False --- False\n",
            "accessible -- False --- False\n",
            "to -- True --- False\n",
            "everyone -- True --- False\n",
            "across -- True --- False\n",
            "the -- True --- False\n",
            "country -- False --- False\n",
            ", -- False --- True\n",
            "especially -- False --- False\n",
            "right -- False --- False\n",
            "now -- True --- False\n",
            "smartphones -- False --- False\n",
            "are -- True --- False\n",
            "bringing -- False --- False\n",
            "immense -- False --- False\n",
            "value -- False --- False\n",
            "to -- True --- False\n",
            "people -- False --- False\n",
            "'s -- True --- False\n",
            "lives -- False --- False\n",
            ". -- False --- True\n",
            "\n",
            " -- False --- False\n"
          ],
          "name": "stdout"
        }
      ]
    },
    {
      "cell_type": "code",
      "metadata": {
        "id": "1SyL09CTRv1o",
        "outputId": "225efb11-a3ed-4b71-c7f5-94cb40e345c8",
        "colab": {
          "base_uri": "https://localhost:8080/",
          "height": 1000
        }
      },
      "source": [
        "for token in my_doc:\n",
        "  print(token.lemma_)"
      ],
      "execution_count": 9,
      "outputs": [
        {
          "output_type": "stream",
          "text": [
            "\n",
            "\n",
            "if\n",
            "-PRON-\n",
            "would\n",
            "watch\n",
            "the\n",
            "thunderous\n",
            "#\n",
            "FullOn\n",
            "Festival\n",
            "last\n",
            "week\n",
            ",\n",
            "-PRON-\n",
            "know\n",
            "what\n",
            "a\n",
            "crackle\n",
            "phone\n",
            "be\n",
            "on\n",
            "-PRON-\n",
            "way\n",
            "to\n",
            "be\n",
            "launch\n",
            ".\n",
            "the\n",
            "Galaxy\n",
            "F41\n",
            "be\n",
            "launch\n",
            "today\n",
            "at\n",
            "the\n",
            "Big\n",
            "Billion\n",
            "day\n",
            "sale\n",
            "on\n",
            "Flipkart\n",
            "at\n",
            "an\n",
            "astonishing\n",
            "price\n",
            "of\n",
            "r\n",
            "15\n",
            ",\n",
            "499\n",
            "for\n",
            "the\n",
            "base\n",
            "model\n",
            "(\n",
            "6\n",
            "GB\n",
            "RAM\n",
            ",\n",
            "64\n",
            "GB\n",
            "Internal\n",
            "Memory\n",
            ")\n",
            "!\n",
            "the\n",
            "tactical\n",
            "partnership\n",
            "between\n",
            "Samsung\n",
            "and\n",
            "Flipkart\n",
            "will\n",
            "see\n",
            "a\n",
            "reinforce\n",
            "commitment\n",
            "to\n",
            "make\n",
            "the\n",
            "late\n",
            "in\n",
            "technology\n",
            "accessible\n",
            "to\n",
            "everyone\n",
            "across\n",
            "the\n",
            "country\n",
            ",\n",
            "especially\n",
            "right\n",
            "now\n",
            "smartphone\n",
            "be\n",
            "bring\n",
            "immense\n",
            "value\n",
            "to\n",
            "people\n",
            "'s\n",
            "life\n",
            ".\n",
            "\n",
            "\n"
          ],
          "name": "stdout"
        }
      ]
    },
    {
      "cell_type": "code",
      "metadata": {
        "id": "qK9u42T5R_fn",
        "outputId": "70068b22-9d95-4f80-c090-5b7a95ec2243",
        "colab": {
          "base_uri": "https://localhost:8080/",
          "height": 212
        }
      },
      "source": [
        "'''\n",
        "a word will have the same hash value irrespective of which document it occurs in or which spaCy model is being used.\n",
        "'''\n",
        "\n",
        "# Create two different doc with a common word\n",
        "doc1 = nlp('I will learn tensorflow')\n",
        "doc2 = nlp('tensorflow is good to learn')\n",
        "\n",
        "# Printing the hash value for each token in the doc\n",
        "\n",
        "print('-------DOC 1-------')\n",
        "for token in doc1:\n",
        "  hash_value=nlp.vocab.strings[token.text]\n",
        "  print(token.text ,' ',hash_value)\n",
        "\n",
        "print('-------DOC 2-------')\n",
        "for token in doc2:\n",
        "  hash_value=nlp.vocab.strings[token.text]\n",
        "  print(token.text ,' ',hash_value)"
      ],
      "execution_count": 12,
      "outputs": [
        {
          "output_type": "stream",
          "text": [
            "-------DOC 1-------\n",
            "I   4690420944186131903\n",
            "will   18307573501153647118\n",
            "learn   9664905639869093544\n",
            "tensorflow   18278100930983426539\n",
            "-------DOC 2-------\n",
            "tensorflow   18278100930983426539\n",
            "is   3411606890003347522\n",
            "good   5711639017775284443\n",
            "to   3791531372978436496\n",
            "learn   9664905639869093544\n"
          ],
          "name": "stdout"
        }
      ]
    },
    {
      "cell_type": "code",
      "metadata": {
        "id": "_3rMIiahSzYP",
        "outputId": "fa5f3f2f-7e39-426f-e8a7-70761be3cacf",
        "colab": {
          "base_uri": "https://localhost:8080/",
          "height": 34
        }
      },
      "source": [
        "# Printing the tokens which are like numbers\n",
        "text=' 2020 can not be worse after corona'\n",
        "doc=nlp(text)\n",
        "for token in doc:\n",
        "  if token.like_num:\n",
        "    print(token)"
      ],
      "execution_count": 13,
      "outputs": [
        {
          "output_type": "stream",
          "text": [
            "2020\n"
          ],
          "name": "stdout"
        }
      ]
    },
    {
      "cell_type": "code",
      "metadata": {
        "id": "HJPURpxGTJDl",
        "outputId": "d666e5ed-5b67-4877-fcce-41b28e5f3644",
        "colab": {
          "base_uri": "https://localhost:8080/",
          "height": 87
        }
      },
      "source": [
        "production_text=' Production in chennai is 87 %. In Kolkata, produce it as low as 43 %. In Bangalore, production ia as good as 98 %.In mysore, production is average around 78 %'\n",
        "# Finding the tokens which are numbers followed by % \n",
        "\n",
        "production_doc=nlp(production_text)\n",
        "\n",
        "for token in production_doc:\n",
        "  if token.like_num:\n",
        "    index_of_next_token=token.i+ 1\n",
        "    next_token=production_doc[index_of_next_token]\n",
        "    if next_token.text == '%':\n",
        "      print(token.text)"
      ],
      "execution_count": 14,
      "outputs": [
        {
          "output_type": "stream",
          "text": [
            "87\n",
            "43\n",
            "98\n",
            "78\n"
          ],
          "name": "stdout"
        }
      ]
    },
    {
      "cell_type": "code",
      "metadata": {
        "id": "nidHHjMKTXpi",
        "outputId": "c7e9a168-a403-4ce9-980e-2195253cdbfa",
        "colab": {
          "base_uri": "https://localhost:8080/",
          "height": 52
        }
      },
      "source": [
        "# text containing employee details\n",
        "employee_text=\"\"\" \n",
        "      Contact me at sambit9238@gmail.com . The sambit@gmail.com is expired.\n",
        "\"\"\"\n",
        "\n",
        "# creating a spacy doc          \n",
        "employee_doc=nlp(employee_text)\n",
        "\n",
        "# Printing the tokens which are email through `like_email` attribute\n",
        "for token in employee_doc:\n",
        "  if token.like_email:\n",
        "    print(token.text)"
      ],
      "execution_count": 15,
      "outputs": [
        {
          "output_type": "stream",
          "text": [
            "sambit9238@gmail.com\n",
            "sambit@gmail.com\n"
          ],
          "name": "stdout"
        }
      ]
    },
    {
      "cell_type": "markdown",
      "metadata": {
        "id": "-iisV3f7Tsor"
      },
      "source": [
        "* token.is_alpha : Returns True if the token is an alphabet\n",
        "* token.is_ascii : Returns True if the token belongs to ascii characters\n",
        "* token.is_digit : Returns True if the token is a number(0-9)\n",
        "* token.is_upper : Returns True if the token is upper case alphabet\n",
        "* token.is_lower : Returns True if the token is lower case alphabet\n",
        "* token.is_space : Returns True if the token is a space ‘ ‘\n",
        "* token.is_bracket : Returns True if the token is a bracket\n",
        "* token.is_quote : Returns True if the token is a quotation mark\n",
        "* token.like_url : Returns True if the token is similar to a URl (link to website)\n"
      ]
    },
    {
      "cell_type": "code",
      "metadata": {
        "id": "oEBJcNHkTnpD",
        "outputId": "f3f1c799-419e-45d5-80e8-924398194324",
        "colab": {
          "base_uri": "https://localhost:8080/",
          "height": 283
        }
      },
      "source": [
        "# POS tagging using spaCy\n",
        "my_text='John plays basketball,if time permits. He played in high school too.'\n",
        "my_doc=nlp(my_text)\n",
        "for token in my_doc:\n",
        "  print(token.text,'---- ',token.pos_)"
      ],
      "execution_count": 16,
      "outputs": [
        {
          "output_type": "stream",
          "text": [
            "John ----  PROPN\n",
            "plays ----  VERB\n",
            "basketball ----  NOUN\n",
            ", ----  PUNCT\n",
            "if ----  SCONJ\n",
            "time ----  NOUN\n",
            "permits ----  VERB\n",
            ". ----  PUNCT\n",
            "He ----  PRON\n",
            "played ----  VERB\n",
            "in ----  ADP\n",
            "high ----  ADJ\n",
            "school ----  NOUN\n",
            "too ----  ADV\n",
            ". ----  PUNCT\n"
          ],
          "name": "stdout"
        }
      ]
    },
    {
      "cell_type": "code",
      "metadata": {
        "id": "M-aC83-UUBxW",
        "outputId": "17970363-50ba-4ebf-eea6-245fd68072c8",
        "colab": {
          "base_uri": "https://localhost:8080/",
          "height": 35
        }
      },
      "source": [
        "spacy.explain('ADV')"
      ],
      "execution_count": 18,
      "outputs": [
        {
          "output_type": "execute_result",
          "data": {
            "application/vnd.google.colaboratory.intrinsic+json": {
              "type": "string"
            },
            "text/plain": [
              "'adverb'"
            ]
          },
          "metadata": {
            "tags": []
          },
          "execution_count": 18
        }
      ]
    },
    {
      "cell_type": "code",
      "metadata": {
        "id": "JsIK5bYWUD6z",
        "outputId": "6888ac99-304b-4c79-ac74-bfe1ffff6270",
        "colab": {
          "base_uri": "https://localhost:8080/",
          "height": 194
        }
      },
      "source": [
        "# Raw text document\n",
        "raw_text=\"\"\"I liked the movies etc The movie had good direction  The movie was amazing i.e.\n",
        "            The movie was average direction was not bad The cinematography was nice. i.e.\n",
        "            The movie was a bit lengthy  otherwise fantastic  etc etc\"\"\"\n",
        "\n",
        "# Creating a spacy object\n",
        "raw_doc=nlp(raw_text)\n",
        "\n",
        "# Checking if POS tag is X and printing them\n",
        "print('The junk values are..')\n",
        "for token in raw_doc:\n",
        "  if token.pos_=='X':\n",
        "    print(token.text)\n",
        "\n",
        "print('After removing junk')\n",
        "# Removing the tokens whose POS tag is junk.\n",
        "clean_doc=[token for token in raw_doc if not token.pos_=='X']\n",
        "print(clean_doc)"
      ],
      "execution_count": 19,
      "outputs": [
        {
          "output_type": "stream",
          "text": [
            "The junk values are..\n",
            "etc\n",
            "i.e.\n",
            "i.e.\n",
            "etc\n",
            "etc\n",
            "After removing junk\n",
            "[I, liked, the, movies, The, movie, had, good, direction,  , The, movie, was, amazing, \n",
            "            , The, movie, was, average, direction, was, not, bad, The, cinematography, was, nice, ., \n",
            "            , The, movie, was, a, bit, lengthy,  , otherwise, fantastic,  ]\n"
          ],
          "name": "stdout"
        }
      ]
    },
    {
      "cell_type": "markdown",
      "metadata": {
        "id": "emJ8-Fk1VT1j"
      },
      "source": [
        "# **NER**"
      ]
    },
    {
      "cell_type": "code",
      "metadata": {
        "id": "05_NvMsVVYqH"
      },
      "source": [
        "# Creating a doc on news articles\n",
        "news_text=\"\"\"Indian man has allegedly duped nearly 50 businessmen in the UAE of USD 1.6 million and fled the country in the most unlikely way -- on a repatriation flight to Hyderabad, according to a media report on Saturday.Yogesh Ashok Yariava, the prime accused in the fraud, flew from Abu Dhabi to Hyderabad on a Vande Bharat repatriation flight on May 11 with around 170 evacuees, the Gulf News reported.Yariava, the 36-year-old owner of the fraudulent Royal Luck Foodstuff Trading, made bulk purchases worth 6 million dirhams (USD 1.6 million) against post-dated cheques from unsuspecting traders before fleeing to India, the daily said.\n",
        "The bought goods included facemasks, hand sanitisers, medical gloves (worth nearly 5,00,000 dirhams), rice and nuts (3,93,000 dirhams), tuna, pistachios and saffron (3,00,725 dirhams), French fries and mozzarella cheese (2,29,000 dirhams), frozen Indian beef (2,07,000 dirhams) and halwa and tahina (52,812 dirhams).\n",
        "The list of items and defrauded persons keeps getting longer as more and more victims come forward, the report said.\n",
        "The aggrieved traders have filed a case with the Bur Dubai police station.\n",
        "The traders said when the dud cheques started bouncing they rushed to the Royal Luck's office in Dubai but the shutters were down, even the fraudulent company's warehouses were empty.\"\"\"\n",
        "\n",
        "news_doc=nlp(news_text)"
      ],
      "execution_count": 20,
      "outputs": []
    },
    {
      "cell_type": "markdown",
      "metadata": {
        "id": "yU9CAeJUVv4m"
      },
      "source": [
        "* PERSON : Denotes names of people\n",
        "* GPE : Denotes places like counties, cities, states.\n",
        "* ORG : Denotes organizations or companies\n",
        "* WORK_OF_ART : Denotes titles of books, fimls,songs and other arts\n",
        "* PRODUCT : Denotes products such as vehicles, food items ,furniture and so on.\n",
        "* EVENT : Denotes historical events like wars, disasters ,etc…\n",
        "* LANGUAGE : All the recognized languages across the globe."
      ]
    },
    {
      "cell_type": "code",
      "metadata": {
        "id": "S6f9DquoVZYd",
        "outputId": "bb3a1d7b-5d20-4b45-ad21-c6bb07b09874",
        "colab": {
          "base_uri": "https://localhost:8080/",
          "height": 142
        }
      },
      "source": [
        "# Function to identify  if tokens are named entities and replace them with UNKNOWN\n",
        "def remove_details(word):\n",
        "  if word.ent_type_ =='PERSON' or word.ent_type_=='ORG' or word.ent_type_=='GPE':\n",
        "    return ' UNKNOWN '\n",
        "  return word.string\n",
        "\n",
        "\n",
        "# Function where each token of spacy doc is passed through remove_deatils()\n",
        "def update_article(doc):\n",
        "  # # iterrating through all entities\n",
        "  # for ent in doc.ents:\n",
        "  #   ent.merge()\n",
        "  # Passing each token through remove_details() function.\n",
        "  tokens = map(remove_details,doc)\n",
        "  return ''.join(tokens)\n",
        "\n",
        "# Passing our news_doc to the function update_article()\n",
        "update_article(news_doc)"
      ],
      "execution_count": 22,
      "outputs": [
        {
          "output_type": "execute_result",
          "data": {
            "application/vnd.google.colaboratory.intrinsic+json": {
              "type": "string"
            },
            "text/plain": [
              "\"Indian man has allegedly duped nearly 50 businessmen in the  UNKNOWN of USD 1.6 million and fled the country in the most unlikely way -- on a repatriation flight to  UNKNOWN , according to a media report on Saturday. UNKNOWN  UNKNOWN  UNKNOWN , the prime accused in the fraud, flew from  UNKNOWN  UNKNOWN to  UNKNOWN on a Vande Bharat repatriation flight on May 11 with around 170 evacuees,  UNKNOWN  UNKNOWN  UNKNOWN reported. UNKNOWN , the 36-year-old owner of the fraudulent  UNKNOWN  UNKNOWN  UNKNOWN  UNKNOWN , made bulk purchases worth 6 million dirhams (USD 1.6 million) against post-dated cheques from unsuspecting traders before fleeing to  UNKNOWN , the daily said.\\nThe bought goods included facemasks, hand sanitisers, medical gloves (worth nearly 5,00,000 dirhams), rice and nuts (3,93,000 dirhams), tuna, pistachios and saffron (3,00,725 dirhams), French fries and mozzarella cheese (2,29,000 dirhams), frozen Indian beef (2,07,000 dirhams) and halwa and  UNKNOWN (52,812 dirhams).\\nThe list of items and defrauded persons keeps getting longer as more and more victims come forward, the report said.\\nThe aggrieved traders have filed a case with the Bur Dubai police station.\\nThe traders said when the  UNKNOWN cheques started bouncing they rushed to  UNKNOWN  UNKNOWN  UNKNOWN  UNKNOWN office in  UNKNOWN but the shutters were down, even the fraudulent company's warehouses were empty.\""
            ]
          },
          "metadata": {
            "tags": []
          },
          "execution_count": 22
        }
      ]
    },
    {
      "cell_type": "markdown",
      "metadata": {
        "id": "pfnE1ZEjWZi-"
      },
      "source": [
        "**ENTITY RULER**"
      ]
    },
    {
      "cell_type": "code",
      "metadata": {
        "id": "lvMClH63WdzQ"
      },
      "source": [
        "from spacy.pipeline import EntityRuler"
      ],
      "execution_count": 25,
      "outputs": []
    },
    {
      "cell_type": "code",
      "metadata": {
        "id": "EZKHslUKWidM"
      },
      "source": [
        "# Initialize\n",
        "ruler = EntityRuler(nlp)"
      ],
      "execution_count": 26,
      "outputs": []
    },
    {
      "cell_type": "code",
      "metadata": {
        "id": "tQuduSVxWkai"
      },
      "source": [
        "pattern=[{\"label\": \"WORK_OF_ART\", \"pattern\": \"My guide to statistics\"}]"
      ],
      "execution_count": 27,
      "outputs": []
    },
    {
      "cell_type": "code",
      "metadata": {
        "id": "uh2URQkQW2Eq"
      },
      "source": [
        "ruler.add_patterns(pattern)"
      ],
      "execution_count": 28,
      "outputs": []
    },
    {
      "cell_type": "code",
      "metadata": {
        "id": "eGBrCI0ZW3lb"
      },
      "source": [
        "# Add entity ruler to the NLP pipeline. \n",
        "# NLP pipeline is a sequence of NLP tasks that spaCy performs for a given text\n",
        "# More on pipelines coming in future section in this post.\n",
        "nlp.add_pipe(ruler)"
      ],
      "execution_count": 29,
      "outputs": []
    },
    {
      "cell_type": "code",
      "metadata": {
        "id": "rbP2kUgXW5Y9",
        "outputId": "ef35af84-3a8c-4c5d-d10b-bb82541c01ce",
        "colab": {
          "base_uri": "https://localhost:8080/",
          "height": 34
        }
      },
      "source": [
        "# Extract the custom entity type \n",
        "doc = nlp(\" I recently published my work fanfiction by Dr.X . Right now I'm studying the book of my friend .You should try My guide to statistics for clear concepts.\")\n",
        "print([(ent.text, ent.label_) for ent in doc.ents])"
      ],
      "execution_count": 30,
      "outputs": [
        {
          "output_type": "stream",
          "text": [
            "[('My guide to statistics', 'WORK_OF_ART')]\n"
          ],
          "name": "stdout"
        }
      ]
    },
    {
      "cell_type": "code",
      "metadata": {
        "id": "oIHeQdI6W62g"
      },
      "source": [
        ""
      ],
      "execution_count": null,
      "outputs": []
    }
  ]
}